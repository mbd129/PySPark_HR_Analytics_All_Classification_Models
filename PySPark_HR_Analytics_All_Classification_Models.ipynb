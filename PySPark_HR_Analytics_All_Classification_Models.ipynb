{
 "cells": [
  {
   "cell_type": "code",
   "execution_count": 2,
   "metadata": {
    "colab": {
     "base_uri": "https://localhost:8080/"
    },
    "id": "kbdLx1vAPJTA",
    "outputId": "14869d07-54b6-46a6-b84b-62c8d5da0a54"
   },
   "outputs": [
    {
     "name": "stdout",
     "output_type": "stream",
     "text": [
      "Collecting pyspark\n",
      "  Downloading pyspark-3.4.1.tar.gz (310.8 MB)\n",
      "\u001b[2K     \u001b[90m━━━━━━━━━━━━━━━━━━━━━━━━━━━━━━━━━━━━━━━\u001b[0m \u001b[32m310.8/310.8 MB\u001b[0m \u001b[31m3.2 MB/s\u001b[0m eta \u001b[36m0:00:00\u001b[0m\n",
      "\u001b[?25h  Preparing metadata (setup.py) ... \u001b[?25l\u001b[?25hdone\n",
      "Requirement already satisfied: py4j==0.10.9.7 in /usr/local/lib/python3.10/dist-packages (from pyspark) (0.10.9.7)\n",
      "Building wheels for collected packages: pyspark\n",
      "  Building wheel for pyspark (setup.py) ... \u001b[?25l\u001b[?25hdone\n",
      "  Created wheel for pyspark: filename=pyspark-3.4.1-py2.py3-none-any.whl size=311285387 sha256=3bf40ba4b667447142b829660b000003bcbffb62fd88bd251a1c7918d3b8a283\n",
      "  Stored in directory: /root/.cache/pip/wheels/0d/77/a3/ff2f74cc9ab41f8f594dabf0579c2a7c6de920d584206e0834\n",
      "Successfully built pyspark\n",
      "Installing collected packages: pyspark\n",
      "Successfully installed pyspark-3.4.1\n"
     ]
    }
   ],
   "source": [
    "!pip install pyspark"
   ]
  },
  {
   "cell_type": "code",
   "execution_count": 3,
   "metadata": {
    "id": "vfLDDE-KPcsr"
   },
   "outputs": [],
   "source": [
    "import pyspark\n",
    "from pyspark.sql import SparkSession"
   ]
  },
  {
   "cell_type": "code",
   "execution_count": 4,
   "metadata": {
    "id": "NmlXEmnmPxHz"
   },
   "outputs": [],
   "source": [
    "spark=SparkSession.builder.appName(\"classification\").getOrCreate()"
   ]
  },
  {
   "cell_type": "code",
   "execution_count": 5,
   "metadata": {
    "id": "kVj2PmkPP755"
   },
   "outputs": [],
   "source": [
    "hrdata=spark.read.csv(\"/content/drive/MyDrive/HR Analytics/train_LZdllcl.csv\",\n",
    "                      inferSchema=True,header=True)"
   ]
  },
  {
   "cell_type": "code",
   "execution_count": 9,
   "metadata": {
    "colab": {
     "base_uri": "https://localhost:8080/"
    },
    "id": "oEHwzyUoQK5W",
    "outputId": "b5be7b79-75c0-423c-e283-6a8b255df1f7"
   },
   "outputs": [
    {
     "name": "stdout",
     "output_type": "stream",
     "text": [
      "+----------------+-----+\n",
      "|       education|count|\n",
      "+----------------+-----+\n",
      "| Below Secondary|  805|\n",
      "|Master's & above|14925|\n",
      "|      Bachelor's|39078|\n",
      "+----------------+-----+\n",
      "\n"
     ]
    }
   ],
   "source": [
    "hrdata.groupBy('education').count().show()"
   ]
  },
  {
   "cell_type": "code",
   "execution_count": 8,
   "metadata": {
    "id": "iB3qXhUKQRJ6"
   },
   "outputs": [],
   "source": [
    "hrdata=hrdata.na.fill(value=\"Bachelor's\",subset=['education'])"
   ]
  },
  {
   "cell_type": "code",
   "execution_count": 12,
   "metadata": {
    "colab": {
     "base_uri": "https://localhost:8080/"
    },
    "id": "gqw5dZmGRlq3",
    "outputId": "5daed99b-0528-4919-e05d-5a2613645505"
   },
   "outputs": [
    {
     "name": "stdout",
     "output_type": "stream",
     "text": [
      "+--------------------+-----+\n",
      "|previous_year_rating|count|\n",
      "+--------------------+-----+\n",
      "|                   1| 6223|\n",
      "|                   3|22742|\n",
      "|                   5|11741|\n",
      "|                   4| 9877|\n",
      "|                   2| 4225|\n",
      "+--------------------+-----+\n",
      "\n"
     ]
    }
   ],
   "source": [
    "hrdata.groupBy('previous_year_rating').count().show()"
   ]
  },
  {
   "cell_type": "code",
   "execution_count": 11,
   "metadata": {
    "id": "WKhJbKJKRt7w"
   },
   "outputs": [],
   "source": [
    "hrdata=hrdata.na.fill(value=3,subset=['previous_year_rating'])"
   ]
  },
  {
   "cell_type": "code",
   "execution_count": 13,
   "metadata": {
    "colab": {
     "base_uri": "https://localhost:8080/"
    },
    "id": "ClN0iL_BR662",
    "outputId": "2768d163-4625-41e1-c77c-d44f850c5c6b"
   },
   "outputs": [
    {
     "data": {
      "text/plain": [
       "['employee_id',\n",
       " 'department',\n",
       " 'region',\n",
       " 'education',\n",
       " 'gender',\n",
       " 'recruitment_channel',\n",
       " 'no_of_trainings',\n",
       " 'age',\n",
       " 'previous_year_rating',\n",
       " 'length_of_service',\n",
       " 'KPIs_met >80%',\n",
       " 'awards_won?',\n",
       " 'avg_training_score',\n",
       " 'is_promoted']"
      ]
     },
     "execution_count": 13,
     "metadata": {},
     "output_type": "execute_result"
    }
   ],
   "source": [
    "hrdata.columns"
   ]
  },
  {
   "cell_type": "code",
   "execution_count": 15,
   "metadata": {
    "id": "clZaixoiTNoO"
   },
   "outputs": [],
   "source": [
    "from pyspark.ml.feature import StringIndexer\n",
    "from pyspark.ml import Pipeline"
   ]
  },
  {
   "cell_type": "code",
   "execution_count": 43,
   "metadata": {
    "id": "LYTiKj7eTVBn"
   },
   "outputs": [],
   "source": [
    "indexer=[StringIndexer(inputCol=col,outputCol=col+\"index\").fit(hrdata)\n",
    "for col in list(set(hrdata.columns)-set(['no_of_trainings','age',\n",
    "                                         'length_of_service',\n",
    "                                         'avg_training_score','employee_id']))]"
   ]
  },
  {
   "cell_type": "code",
   "execution_count": 44,
   "metadata": {
    "id": "CZ3Ew2pIUIin"
   },
   "outputs": [],
   "source": [
    "pipeline=Pipeline(stages=indexer)"
   ]
  },
  {
   "cell_type": "code",
   "execution_count": 45,
   "metadata": {
    "id": "aMqlTci0USez"
   },
   "outputs": [],
   "source": [
    "hrdatadf=pipeline.fit(hrdata).transform(hrdata)"
   ]
  },
  {
   "cell_type": "code",
   "execution_count": 62,
   "metadata": {
    "colab": {
     "base_uri": "https://localhost:8080/"
    },
    "id": "5gBaB85EUgvF",
    "outputId": "f44fdd73-c212-422f-ee40-001af69ecdff"
   },
   "outputs": [
    {
     "data": {
      "text/plain": [
       "['employee_id',\n",
       " 'department',\n",
       " 'no_of_trainings',\n",
       " 'age',\n",
       " 'length_of_service',\n",
       " 'avg_training_score',\n",
       " 'genderindex',\n",
       " 'is_promotedindex',\n",
       " 'KPIs_met >80%index',\n",
       " 'awards_won?index',\n",
       " 'educationindex',\n",
       " 'recruitment_channelindex',\n",
       " 'departmentindex',\n",
       " 'regionindex',\n",
       " 'previous_year_ratingindex',\n",
       " 'features',\n",
       " 'label']"
      ]
     },
     "execution_count": 62,
     "metadata": {},
     "output_type": "execute_result"
    }
   ],
   "source": [
    "hrdatadf.columns"
   ]
  },
  {
   "cell_type": "code",
   "execution_count": 47,
   "metadata": {
    "id": "hJwQ2NEFVRA7"
   },
   "outputs": [],
   "source": [
    "columnstodrop=['employee_id''department','region','education','gender',\n",
    "               'recruitment_channel','previous_year_rating','KPIs_met >80%',\n",
    "               'awards_won?','is_promoted']"
   ]
  },
  {
   "cell_type": "code",
   "execution_count": 48,
   "metadata": {
    "id": "AzHNQFJoVnJ3"
   },
   "outputs": [],
   "source": [
    "hrdatadf=hrdatadf.drop(*columnstodrop)"
   ]
  },
  {
   "cell_type": "code",
   "execution_count": 49,
   "metadata": {
    "id": "2OSI0YW8XaUI"
   },
   "outputs": [],
   "source": [
    "from pyspark.ml.feature import RFormula"
   ]
  },
  {
   "cell_type": "code",
   "execution_count": 50,
   "metadata": {
    "id": "9htTy7f1Xgr2"
   },
   "outputs": [],
   "source": [
    "formula=RFormula(formula=\"is_promotedindex~.\",featuresCol='features',\n",
    "                 labelCol='label')"
   ]
  },
  {
   "cell_type": "code",
   "execution_count": 51,
   "metadata": {
    "id": "9W5xVHz6Xxpd"
   },
   "outputs": [],
   "source": [
    "hrdatadf=formula.fit(hrdatadf).transform(hrdatadf)"
   ]
  },
  {
   "cell_type": "code",
   "execution_count": 52,
   "metadata": {
    "id": "xjzIbAgIX7Qf"
   },
   "outputs": [],
   "source": [
    "from pyspark.ml.classification import LogisticRegression\n",
    "from pyspark.ml.evaluation import MulticlassClassificationEvaluator,BinaryClassificationEvaluator"
   ]
  },
  {
   "cell_type": "code",
   "execution_count": 53,
   "metadata": {
    "id": "Ugiiua9MZlCu"
   },
   "outputs": [],
   "source": [
    "logit=LogisticRegression()"
   ]
  },
  {
   "cell_type": "code",
   "execution_count": 54,
   "metadata": {
    "id": "F-paMfyXZqQE"
   },
   "outputs": [],
   "source": [
    "logitmodel=logit.fit(hrdatadf)"
   ]
  },
  {
   "cell_type": "code",
   "execution_count": 55,
   "metadata": {
    "colab": {
     "base_uri": "https://localhost:8080/"
    },
    "id": "Ey7FIQhgZts6",
    "outputId": "f4b31b52-9e6e-410e-9413-bc6fd764c9b8"
   },
   "outputs": [
    {
     "data": {
      "text/plain": [
       "0.9325098525762663"
      ]
     },
     "execution_count": 55,
     "metadata": {},
     "output_type": "execute_result"
    }
   ],
   "source": [
    "logitmodel.summary.accuracy"
   ]
  },
  {
   "cell_type": "code",
   "execution_count": 56,
   "metadata": {
    "colab": {
     "base_uri": "https://localhost:8080/"
    },
    "id": "Rw-fH_TYbjuZ",
    "outputId": "e7278698-8c5f-4264-bbbe-c1f52eea40fe"
   },
   "outputs": [
    {
     "data": {
      "text/plain": [
       "0.8683283464397373"
      ]
     },
     "execution_count": 56,
     "metadata": {},
     "output_type": "execute_result"
    }
   ],
   "source": [
    "logitmodel.summary.areaUnderROC"
   ]
  },
  {
   "cell_type": "code",
   "execution_count": 57,
   "metadata": {
    "id": "xzamcpVPaB45"
   },
   "outputs": [],
   "source": [
    "accuracy=MulticlassClassificationEvaluator(metricName=\"accuracy\")"
   ]
  },
  {
   "cell_type": "code",
   "execution_count": 58,
   "metadata": {
    "id": "SxnDQfojbPLK"
   },
   "outputs": [],
   "source": [
    "auc=BinaryClassificationEvaluator()"
   ]
  },
  {
   "cell_type": "code",
   "execution_count": 59,
   "metadata": {
    "id": "ww5hhsyUbxvt"
   },
   "outputs": [],
   "source": [
    "from pyspark.ml.classification import DecisionTreeClassifier"
   ]
  },
  {
   "cell_type": "code",
   "execution_count": 64,
   "metadata": {
    "id": "JNMzhFlgcI4V"
   },
   "outputs": [],
   "source": [
    "tree=DecisionTreeClassifier(maxBins=35)"
   ]
  },
  {
   "cell_type": "code",
   "execution_count": 66,
   "metadata": {
    "id": "MBR2VxvjcMtf"
   },
   "outputs": [],
   "source": [
    "treemodel=tree.fit(hrdatadf)"
   ]
  },
  {
   "cell_type": "code",
   "execution_count": 67,
   "metadata": {
    "id": "P0bAG0-HcQzJ"
   },
   "outputs": [],
   "source": [
    "treepredict=treemodel.transform(hrdatadf)"
   ]
  },
  {
   "cell_type": "code",
   "execution_count": 69,
   "metadata": {
    "colab": {
     "base_uri": "https://localhost:8080/"
    },
    "id": "AnB3IvHAdQUx",
    "outputId": "981615da-e910-4eb6-ed4f-dda3303119a4"
   },
   "outputs": [
    {
     "data": {
      "text/plain": [
       "0.9261786600496278"
      ]
     },
     "execution_count": 69,
     "metadata": {},
     "output_type": "execute_result"
    }
   ],
   "source": [
    "accuracy.evaluate(treepredict)"
   ]
  },
  {
   "cell_type": "code",
   "execution_count": 70,
   "metadata": {
    "colab": {
     "base_uri": "https://localhost:8080/"
    },
    "id": "HTEcEhfWdUHM",
    "outputId": "8f0c16e2-98d6-44db-f916-f509be1b209f"
   },
   "outputs": [
    {
     "data": {
      "text/plain": [
       "0.5785816850778404"
      ]
     },
     "execution_count": 70,
     "metadata": {},
     "output_type": "execute_result"
    }
   ],
   "source": [
    "auc.evaluate(treepredict)"
   ]
  },
  {
   "cell_type": "code",
   "execution_count": 71,
   "metadata": {
    "id": "ZM6VmZiUdcr3"
   },
   "outputs": [],
   "source": [
    "from pyspark.ml.classification import RandomForestClassifier"
   ]
  },
  {
   "cell_type": "code",
   "execution_count": 72,
   "metadata": {
    "id": "7wzAuLS2eJZG"
   },
   "outputs": [],
   "source": [
    "RF=RandomForestClassifier(maxBins=35)"
   ]
  },
  {
   "cell_type": "code",
   "execution_count": 73,
   "metadata": {
    "id": "kpMvjIYHeNhX"
   },
   "outputs": [],
   "source": [
    "RFmodel=RF.fit(hrdatadf)"
   ]
  },
  {
   "cell_type": "code",
   "execution_count": 74,
   "metadata": {
    "id": "zVal3tq_eQ41"
   },
   "outputs": [],
   "source": [
    "RFpredict=RFmodel.transform(hrdatadf)"
   ]
  },
  {
   "cell_type": "code",
   "execution_count": 75,
   "metadata": {
    "colab": {
     "base_uri": "https://localhost:8080/"
    },
    "id": "HJcHUyrveaLi",
    "outputId": "ab42864a-fd1f-4f18-cf66-acfb53be5c34"
   },
   "outputs": [
    {
     "data": {
      "text/plain": [
       "0.9237520070062765"
      ]
     },
     "execution_count": 75,
     "metadata": {},
     "output_type": "execute_result"
    }
   ],
   "source": [
    "accuracy.evaluate(RFpredict)"
   ]
  },
  {
   "cell_type": "code",
   "execution_count": 76,
   "metadata": {
    "colab": {
     "base_uri": "https://localhost:8080/"
    },
    "id": "_Tvpyf4neeRt",
    "outputId": "fc75a9ca-2b10-408a-89c9-1e06e5c8e097"
   },
   "outputs": [
    {
     "data": {
      "text/plain": [
       "0.8557354168397036"
      ]
     },
     "execution_count": 76,
     "metadata": {},
     "output_type": "execute_result"
    }
   ],
   "source": [
    "auc.evaluate(RFpredict)"
   ]
  },
  {
   "cell_type": "code",
   "execution_count": 77,
   "metadata": {
    "id": "vM6Gf12Ieibb"
   },
   "outputs": [],
   "source": [
    "from pyspark.ml.classification import GBTClassifier"
   ]
  },
  {
   "cell_type": "code",
   "execution_count": 78,
   "metadata": {
    "id": "qvQ7xR25fJ8A"
   },
   "outputs": [],
   "source": [
    "gbm=GBTClassifier(maxBins=35)"
   ]
  },
  {
   "cell_type": "code",
   "execution_count": 79,
   "metadata": {
    "id": "UM6s5OHwfWmL"
   },
   "outputs": [],
   "source": [
    "gbmmodel=gbm.fit(hrdatadf)"
   ]
  },
  {
   "cell_type": "code",
   "execution_count": 80,
   "metadata": {
    "id": "cnHmIVTafZpB"
   },
   "outputs": [],
   "source": [
    "gbmpredict=gbmmodel.transform(hrdatadf)"
   ]
  },
  {
   "cell_type": "code",
   "execution_count": 81,
   "metadata": {
    "colab": {
     "base_uri": "https://localhost:8080/"
    },
    "id": "jn4knYU3fpYr",
    "outputId": "96443b1a-c524-4c3e-cdc0-417f1eb836be"
   },
   "outputs": [
    {
     "data": {
      "text/plain": [
       "0.9419245365640052"
      ]
     },
     "execution_count": 81,
     "metadata": {},
     "output_type": "execute_result"
    }
   ],
   "source": [
    "accuracy.evaluate(gbmpredict)"
   ]
  },
  {
   "cell_type": "code",
   "execution_count": 82,
   "metadata": {
    "colab": {
     "base_uri": "https://localhost:8080/"
    },
    "id": "lEUp8CDFftR3",
    "outputId": "fdc464ee-a580-45d9-a299-76bf13c14d5f"
   },
   "outputs": [
    {
     "data": {
      "text/plain": [
       "0.9169767944528242"
      ]
     },
     "execution_count": 82,
     "metadata": {},
     "output_type": "execute_result"
    }
   ],
   "source": [
    "auc.evaluate(gbmpredict)"
   ]
  },
  {
   "cell_type": "code",
   "execution_count": 83,
   "metadata": {
    "id": "vOPOsG9rfxHI"
   },
   "outputs": [],
   "source": [
    "from pyspark.ml.classification import MultilayerPerceptronClassifier"
   ]
  },
  {
   "cell_type": "code",
   "execution_count": 84,
   "metadata": {
    "id": "qVebYta5gdR_"
   },
   "outputs": [],
   "source": [
    "nn=MultilayerPerceptronClassifier(layers=[11,100,2])\n",
    "# 11 - input , hidden layer 1 with 100 neurons and output layer 2"
   ]
  },
  {
   "cell_type": "code",
   "execution_count": 98,
   "metadata": {
    "id": "aqkNIalriDs8"
   },
   "outputs": [],
   "source": [
    "import os\n",
    "import sys\n",
    "\n",
    "os.environ['PYSPARK_PYTHON'] = sys.executable\n",
    "os.environ['PYSPARK_DRIVER_PYTHON'] = sys.executable"
   ]
  },
  {
   "cell_type": "code",
   "execution_count": 99,
   "metadata": {
    "id": "_IeuhngPgqLG"
   },
   "outputs": [],
   "source": [
    "nnmodel=nn.fit(hrdatadf)"
   ]
  },
  {
   "cell_type": "code",
   "execution_count": 100,
   "metadata": {
    "id": "Y0g4j0LKgtQW"
   },
   "outputs": [],
   "source": [
    "nnpredict=nnmodel.transform(hrdatadf)"
   ]
  },
  {
   "cell_type": "code",
   "execution_count": null,
   "metadata": {
    "id": "zhg9qrjFhIkf"
   },
   "outputs": [],
   "source": []
  }
 ],
 "metadata": {
  "colab": {
   "provenance": []
  },
  "kernelspec": {
   "display_name": "Python 3 (ipykernel)",
   "language": "python",
   "name": "python3"
  },
  "language_info": {
   "codemirror_mode": {
    "name": "ipython",
    "version": 3
   },
   "file_extension": ".py",
   "mimetype": "text/x-python",
   "name": "python",
   "nbconvert_exporter": "python",
   "pygments_lexer": "ipython3",
   "version": "3.10.9"
  }
 },
 "nbformat": 4,
 "nbformat_minor": 1
}
